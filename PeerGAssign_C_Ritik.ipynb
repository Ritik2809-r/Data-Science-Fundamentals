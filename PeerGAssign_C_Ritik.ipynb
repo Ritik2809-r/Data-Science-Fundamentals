{
 "cells": [
  {
   "cell_type": "markdown",
   "id": "e377bde6-d911-4de8-890e-0f25dc04118d",
   "metadata": {},
   "source": [
    "# Data Science Fundamentals"
   ]
  },
  {
   "cell_type": "markdown",
   "id": "cce7d86a-3566-49d1-aefe-725d9004cf9d",
   "metadata": {},
   "source": [
    "## Introduction  \n",
    "#This notebook explores key components of data science, including languages, libraries, tools, and basic arithmetic operations."
   ]
  },
  {
   "cell_type": "markdown",
   "id": "8bb5af2f-4d7d-4310-86a2-a5f26ea76957",
   "metadata": {},
   "source": [
    "## Some of the popular languages that Data Scientists use are:\n",
    "\n",
    "1. Python\n",
    "2. R\n",
    "3. SQL\n",
    "4. Julia\n",
    "5. Scala\n"
   ]
  },
  {
   "cell_type": "markdown",
   "id": "7c74bdda-5f83-494d-9744-45d45527ded7",
   "metadata": {},
   "source": [
    "## Some of the commonly used libraries used by Data Scientists include:\n",
    "\n",
    "1. Pandas\n",
    "2. NumPy\n",
    "3. Matplotlib\n",
    "4. Scikit-learn\n",
    "5. TensorFlow\n",
    "6. Keras\n"
   ]
  },
  {
   "cell_type": "markdown",
   "id": "5d8e7d48-097f-4b96-b384-582c5589022e",
   "metadata": {},
   "source": [
    "### Data Science Tools  \n",
    "| Tool          | Purpose                     |  \n",
    "|---------------|-----------------------------|  \n",
    "| Jupyter       | Interactive notebooks       |  \n",
    "| Apache Spark  | Big data processing         |  \n",
    "| Git           | Version control             |  \n",
    "| Tableau       | Visualization               |  "
   ]
  },
  {
   "cell_type": "markdown",
   "id": "ffb1ca83-be40-41ee-a6a2-f1980415ab6e",
   "metadata": {},
   "source": [
    "## Below are a few examples of evaluating arithmetic expressions in Python\n"
   ]
  },
  {
   "cell_type": "code",
   "execution_count": 16,
   "id": "74cf423d-68db-4b5c-95aa-a7c016ea9ba5",
   "metadata": {},
   "outputs": [
    {
     "data": {
      "text/plain": [
       "17"
      ]
     },
     "execution_count": 16,
     "metadata": {},
     "output_type": "execute_result"
    }
   ],
   "source": [
    "# This is a simple arithmetic expression to multiply then add integers\n",
    "(3*4)+5\n"
   ]
  },
  {
   "cell_type": "code",
   "execution_count": 18,
   "id": "b2b958e0-4c82-4d66-83a6-05ffb2c29593",
   "metadata": {},
   "outputs": [
    {
     "data": {
      "text/plain": [
       "3.3333333333333335"
      ]
     },
     "execution_count": 18,
     "metadata": {},
     "output_type": "execute_result"
    }
   ],
   "source": [
    "# This will convert 200 minutes to hours by dividing by 60\n",
    "200 / 60\n"
   ]
  },
  {
   "cell_type": "markdown",
   "id": "5466bdb9-aebc-405a-9da1-262b59f90732",
   "metadata": {},
   "source": [
    "## Objectives:\r\n",
    "\r\n",
    "- List popular languages for Data Science\r\n",
    "- List commonly used libraries\r\n",
    "- Create tables using Markdown\r\n",
    "- Perform basic arithmetic operations using Python code\r\n"
   ]
  },
  {
   "cell_type": "markdown",
   "id": "e328eb01-f093-4645-9274-dad4b333d248",
   "metadata": {},
   "source": [
    "## Author:\n",
    "Ritik Raushan\n"
   ]
  },
  {
   "cell_type": "code",
   "execution_count": null,
   "id": "691bf62f-54f3-423c-a4fd-38b29437b13c",
   "metadata": {},
   "outputs": [],
   "source": []
  }
 ],
 "metadata": {
  "kernelspec": {
   "display_name": "Python 3 (ipykernel)",
   "language": "python",
   "name": "python3"
  },
  "language_info": {
   "codemirror_mode": {
    "name": "ipython",
    "version": 3
   },
   "file_extension": ".py",
   "mimetype": "text/x-python",
   "name": "python",
   "nbconvert_exporter": "python",
   "pygments_lexer": "ipython3",
   "version": "3.11.7"
  }
 },
 "nbformat": 4,
 "nbformat_minor": 5
}
